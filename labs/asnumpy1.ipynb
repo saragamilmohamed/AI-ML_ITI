{
 "cells": [
  {
   "cell_type": "markdown",
   "metadata": {},
   "source": [
    "# <p style=\"padding:10px;background-color:purple;margin:0;color:gray;font-family:newtimeroman;font-size:150%;text-align:center;border-radius: 15px 50px;overflow:hidden;font-weight:500\">Task1:Structure Array</p>"
   ]
  },
  {
   "cell_type": "code",
   "execution_count": 1,
   "metadata": {},
   "outputs": [],
   "source": [
    "import numpy as np"
   ]
  },
  {
   "cell_type": "code",
   "execution_count": 3,
   "metadata": {},
   "outputs": [
    {
     "name": "stdout",
     "output_type": "stream",
     "text": [
      "[('sara', 154.5, 5) ('alaa', 160.4, 6) ('sama', 156.8, 4)]\n",
      "[('sara', 154.5, 5) ('sama', 156.8, 4) ('alaa', 160.4, 6)]\n"
     ]
    }
   ],
   "source": [
    "dt=np.dtype([('name',(np.str_,10)),('height',np.float64),(\"class\",np.int32)])\n",
    "arrstd=np.array([('sara',154.5,5),('alaa',160.4,6),('sama',156.8,4)],dtype=dt)\n",
    "print(arrstd)\n",
    "sorted_arrstd=np.sort(arrstd,order='height')\n",
    "print(sorted_arrstd)"
   ]
  },
  {
   "cell_type": "markdown",
   "metadata": {},
   "source": [
    "# <p style=\"padding:10px;background-color:purple;margin:0;color:gray;font-family:newtimeroman;font-size:150%;text-align:center;border-radius: 15px 50px;overflow:hidden;font-weight:500\">Task2:Solve Equations</p>"
   ]
  },
  {
   "cell_type": "code",
   "execution_count": 4,
   "metadata": {},
   "outputs": [
    {
     "name": "stdout",
     "output_type": "stream",
     "text": [
      "[[19.46701571]\n",
      " [ 1.44371728]\n",
      " [-3.54973822]\n",
      " [-1.50183246]]\n"
     ]
    }
   ],
   "source": [
    "coffarr=np.array([[1,2,-3,2],\n",
    "                 [2,-5,4,9],\n",
    "                [-5,40,-1,-20],\n",
    "                [5,-4,-1,60] ])\n",
    "y=np.array([[30],[4],[-6],[5]])\n",
    "res=np.linalg.solve(coffarr,y)\n",
    "print(res)"
   ]
  },
  {
   "cell_type": "code",
   "execution_count": 5,
   "metadata": {},
   "outputs": [
    {
     "name": "stdout",
     "output_type": "stream",
     "text": [
      "[[19.46701571]\n",
      " [ 1.44371728]\n",
      " [-3.54973822]\n",
      " [-1.50183246]]\n"
     ]
    }
   ],
   "source": [
    "from scipy import linalg\n",
    "coffarr=np.array([[1,2,-3,2],\n",
    "                 [2,-5,4,9],\n",
    "                [-5,40,-1,-20],\n",
    "                [5,-4,-1,60] ])\n",
    "y=np.array([[30],[4],[-6],[5]])\n",
    "res=linalg.solve(coffarr,y)\n",
    "print(res)"
   ]
  },
  {
   "cell_type": "markdown",
   "metadata": {},
   "source": [
    "# <p style=\"padding:10px;background-color:purple;margin:0;color:gray;font-family:newtimeroman;font-size:150%;text-align:center;border-radius: 15px 50px;overflow:hidden;font-weight:500\">Task3: Loss Function(L1)</p>"
   ]
  },
  {
   "cell_type": "code",
   "execution_count": null,
   "metadata": {},
   "outputs": [],
   "source": [
    "def L1(yhat, y):\n",
    "    \"\"\"\n",
    "    Arguments:\n",
    "    yhat -- vector of size m (predicted labels)\n",
    "    y -- vector of size m (true labels)\n",
    "    \n",
    "    Returns:\n",
    "    loss -- the value of the L1 loss function defined above\n",
    "    \"\"\"\n",
    "    \n",
    "   \n",
    "    #loss=abs(y-yhat).sum()\n",
    "    loss=np.sum(np.abs(y-yhat))\n",
    "   \n",
    "    \n",
    "    return loss"
   ]
  },
  {
   "cell_type": "code",
   "execution_count": 9,
   "metadata": {},
   "outputs": [
    {
     "name": "stdout",
     "output_type": "stream",
     "text": [
      "L1 = 1.1\n"
     ]
    }
   ],
   "source": [
    "yhat = np.array([.9, 0.2, 0.1, .4, .9])\n",
    "y    = np.array([1 ,  0 ,  0 ,  1, 1])\n",
    "\n",
    "l1_loss = L1(yhat,y)\n",
    "print(\"L1 = \" + str(l1_loss))\n"
   ]
  },
  {
   "cell_type": "markdown",
   "metadata": {},
   "source": [
    "# <p style=\"padding:10px;background-color:purple;margin:0;color:gray;font-family:newtimeroman;font-size:150%;text-align:center;border-radius: 15px 50px;overflow:hidden;font-weight:500\">Task3: Loss Function(L2)</p>"
   ]
  },
  {
   "cell_type": "code",
   "execution_count": 29,
   "metadata": {},
   "outputs": [],
   "source": [
    "def L2(yhat, y):\n",
    "    \"\"\"\n",
    "    Arguments:\n",
    "    yhat -- vector of size m (predicted labels)\n",
    "    y -- vector of size m (true labels)\n",
    "    \n",
    "    Returns:\n",
    "    loss -- the value of the L2 loss function defined above\n",
    "    \"\"\"\n",
    "    \n",
    "    \n",
    "    #loss = sum((y-yhat)**2)\n",
    "    loss=np.sum((np.dot(y,y)-(2*np.dot(y,yhat))+np.dot(yhat,yhat)))\n",
    "  \n",
    "    \n",
    "    return loss"
   ]
  },
  {
   "cell_type": "code",
   "execution_count": 30,
   "metadata": {},
   "outputs": [
    {
     "name": "stdout",
     "output_type": "stream",
     "text": [
      "L2 = 0.4299999999999997\n"
     ]
    }
   ],
   "source": [
    "yhat = np.array([.9, 0.2, 0.1, .4, .9])\n",
    "y    = np.array([1 ,  0 ,  0 ,  1, 1])\n",
    "\n",
    "l2_loss = L2(yhat,y)\n",
    "\n",
    "print(\"L2 = \" + str(l2_loss))"
   ]
  },
  {
   "cell_type": "markdown",
   "metadata": {},
   "source": [
    "# <p style=\"padding:10px;background-color:purple;margin:0;color:gray;font-family:newtimeroman;font-size:150%;text-align:center;border-radius: 15px 50px;overflow:hidden;font-weight:500\">Task4: dot product</p>"
   ]
  },
  {
   "cell_type": "code",
   "execution_count": 2,
   "metadata": {},
   "outputs": [],
   "source": [
    "import numpy as np\n",
    "x=np.random.rand(1000_000)\n",
    "y=np.random.rand(1000_000)"
   ]
  },
  {
   "cell_type": "code",
   "execution_count": 5,
   "metadata": {},
   "outputs": [
    {
     "data": {
      "text/plain": [
       "array([0.18637732, 0.75015424, 0.51504758, ..., 0.95652105, 0.62081302,\n",
       "       0.09513849])"
      ]
     },
     "execution_count": 5,
     "metadata": {},
     "output_type": "execute_result"
    }
   ],
   "source": [
    "x"
   ]
  },
  {
   "cell_type": "code",
   "execution_count": 6,
   "metadata": {},
   "outputs": [
    {
     "data": {
      "text/plain": [
       "array([0.80213826, 0.34422605, 0.61368067, ..., 0.92734473, 0.15966913,\n",
       "       0.29095039])"
      ]
     },
     "execution_count": 6,
     "metadata": {},
     "output_type": "execute_result"
    }
   ],
   "source": [
    "y"
   ]
  },
  {
   "cell_type": "code",
   "execution_count": 6,
   "metadata": {},
   "outputs": [],
   "source": [
    "import time"
   ]
  },
  {
   "cell_type": "code",
   "execution_count": 12,
   "metadata": {},
   "outputs": [
    {
     "name": "stdout",
     "output_type": "stream",
     "text": [
      "250202.82153544485\n",
      "0.001992464065551758\n",
      "250202.82153544365\n",
      "0.7968993186950684\n",
      "250202.82153544365\n",
      "0.24981212615966797\n"
     ]
    }
   ],
   "source": [
    "tic=time.time()\n",
    "print(np.dot(x,y))\n",
    "toc=time.time()\n",
    "print(toc-tic)\n",
    "\n",
    "tic=time.time()\n",
    "res=0\n",
    "for i in range(len(x)):\n",
    "    res+=(x[i]*y[i])\n",
    "print(res)\n",
    "toc=time.time()\n",
    "print(toc-tic)\n",
    "\n",
    "tic=time.time()\n",
    "print(sum(x*y))#this parallel for one dimension array only\n",
    "toc=time.time()\n",
    "print(toc-tic)\n"
   ]
  },
  {
   "cell_type": "code",
   "execution_count": 13,
   "metadata": {},
   "outputs": [
    {
     "name": "stdout",
     "output_type": "stream",
     "text": [
      "250202.82153544365\n",
      "0.7734224796295166\n"
     ]
    }
   ],
   "source": [
    "tic=time.time()\n",
    "res=0\n",
    "for i in range(len(x)):\n",
    "    res+=(x[i]*y[i])\n",
    "print(res)\n",
    "toc=time.time()\n",
    "print(toc-tic)"
   ]
  },
  {
   "cell_type": "code",
   "execution_count": 14,
   "metadata": {},
   "outputs": [
    {
     "name": "stdout",
     "output_type": "stream",
     "text": [
      "250202.82153544365\n",
      "0.21018218994140625\n"
     ]
    }
   ],
   "source": [
    "tic=time.time()\n",
    "print(sum(x*y))#this parallel for one dimension array only\n",
    "toc=time.time()\n",
    "print(toc-tic)\n"
   ]
  },
  {
   "cell_type": "markdown",
   "metadata": {},
   "source": [
    "  I search about dot product parallism found two modules multiprocessing and threadpoolEccuter but multiprocessing gave me runtime error "
   ]
  },
  {
   "cell_type": "code",
   "execution_count": 3,
   "metadata": {},
   "outputs": [
    {
     "name": "stdout",
     "output_type": "stream",
     "text": [
      "218688.6677119655\n",
      "0.004251956939697266\n"
     ]
    }
   ],
   "source": [
    "import numpy as np\n",
    "from concurrent.futures import ThreadPoolExecutor\n",
    "def dot_product_parallel(x, y,threads=4):\n",
    "    size=len(x)//threads\n",
    "    vectors=[]\n",
    "    with ThreadPoolExecutor(max_workers=threads) as executor:\n",
    "        for i in range(threads):\n",
    "            start =i*size\n",
    "            if i !=threads-1:\n",
    "                end =(i+1)*size\n",
    "            else:\n",
    "               len(x)  \n",
    "            vectors.append(executor.submit(np.dot, x[start:end], y[start:end]))\n",
    "            dot_product=0\n",
    "            for f in vectors:\n",
    "                #print(f.result())\n",
    "                dot_product+=f.result()\n",
    "    return dot_product\n",
    "import time\n",
    "\n",
    "tic = time.time()\n",
    "res = dot_product_parallel(x, y,threads=8)\n",
    "toc = time.time()\n",
    "\n",
    "print(res)\n",
    "print(toc-tic)"
   ]
  },
  {
   "cell_type": "code",
   "execution_count": null,
   "metadata": {},
   "outputs": [],
   "source": []
  }
 ],
 "metadata": {
  "kernelspec": {
   "display_name": "Python 3",
   "language": "python",
   "name": "python3"
  },
  "language_info": {
   "codemirror_mode": {
    "name": "ipython",
    "version": 3
   },
   "file_extension": ".py",
   "mimetype": "text/x-python",
   "name": "python",
   "nbconvert_exporter": "python",
   "pygments_lexer": "ipython3",
   "version": "3.9.2"
  }
 },
 "nbformat": 4,
 "nbformat_minor": 2
}
