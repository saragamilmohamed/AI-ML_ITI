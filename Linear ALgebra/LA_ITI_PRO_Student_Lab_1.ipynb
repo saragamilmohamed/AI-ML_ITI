{
 "cells": [
  {
   "cell_type": "markdown",
   "metadata": {
    "id": "NG_u9ZNdDro4"
   },
   "source": [
    "# LAB 1: Matrix and Vector Computations in python\n",
    "In this lab you will use python to study the following topics:\n",
    "\n",
    "- How to create matrices and vectors in python.\n",
    "\n",
    "- How to manipulate matrices in python and create matrices of special types.\n",
    "\n",
    "- How to add matrices and multiply a vector by a matrix by python.\n",
    "\n",
    "- Solving System of Linear Equations Using Gaussian Elimination.\n",
    "\n",
    "- Matrix Multiplication using Different views."
   ]
  },
  {
   "cell_type": "markdown",
   "metadata": {
    "id": "5_qFguPMDrpH"
   },
   "source": [
    "# First: you should run this cell"
   ]
  },
  {
   "cell_type": "code",
   "execution_count": 206,
   "metadata": {
    "id": "kUcR4HrJDrpI"
   },
   "outputs": [],
   "source": [
    "# Make all numpy available via shorter 'np' prefix\n",
    "import numpy as np\n",
    "\n",
    "import sympy as sym"
   ]
  },
  {
   "cell_type": "markdown",
   "metadata": {
    "id": "SCGMgQyFDrpN"
   },
   "source": [
    "# Question 1 :Declaring scalars, vectors, and matrices\n",
    "\n",
    "a) Use [numpy.array](https://numpy.org/doc/stable/reference/generated/numpy.array.html) to declare the following:\n",
    "\n",
    "1. A scalar $s = 5$\n",
    "2. A vector $v = \\begin{bmatrix} 5  \\\\ -2 \\\\ 4  \\\\ \\end{bmatrix}$\n",
    "3. A matrix $A = \\begin{bmatrix} 1 & 2 & 3  \\\\ 4 & 5 & 6 \\\\ 7 & 8 & 9  \\\\ \\end{bmatrix}$\n",
    "4. A matrix $B = \\begin{bmatrix} 1 & 2 & 3  \\\\ 4 & 5 & 6 \\\\ \\end{bmatrix}$\n",
    "5. A matrix $C = \\begin{bmatrix} 1 & 2   \\\\ 3 & 4  \\\\ 5 & 6   \\\\ \\end{bmatrix}$"
   ]
  },
  {
   "cell_type": "markdown",
   "metadata": {
    "id": "iCKr2n1Pokvn"
   },
   "source": []
  },
  {
   "cell_type": "markdown",
   "metadata": {},
   "source": [
    "# <p style=\"padding:10px;background-color:cyan;margin:0;color:gray;font-family:newtimeroman;font-size:150%;text-align:center;border-radius: 15px 50px;overflow:hidden;font-weight:500\">Task1</p>"
   ]
  },
  {
   "cell_type": "code",
   "execution_count": 3,
   "metadata": {
    "colab": {
     "base_uri": "https://localhost:8080/"
    },
    "id": "v4ejEK1RD9yV",
    "outputId": "eb02adc1-cd8a-44e6-de91-47a237cbe470"
   },
   "outputs": [
    {
     "name": "stdout",
     "output_type": "stream",
     "text": [
      "s = 5\n",
      "v=\n",
      " [[ 5]\n",
      " [-2]\n",
      " [ 4]]\n",
      "A=\n",
      " [[1 2 3]\n",
      " [4 5 6]\n",
      " [7 8 9]]\n",
      "B=\n",
      " [[1 2 3]\n",
      " [4 5 6]]\n",
      "C=\n",
      " [[1 4]\n",
      " [2 5]\n",
      " [3 6]]\n"
     ]
    }
   ],
   "source": [
    "s=5\n",
    "print(\"s =\",str(s))\n",
    "v=np.array([5,-2,4])\n",
    "print(\"v=\\n\",str(v.reshape(3,1)))\n",
    "A=np.arange(1,10).reshape(3,3)\n",
    "print(\"A=\\n\",str(A))\n",
    "B=np.arange(1,7).reshape(2,3)\n",
    "print(\"B=\\n\",str(B))\n",
    "C=np.arange(1,7).reshape(2,3).T\n",
    "print(\"C=\\n\",str(C))"
   ]
  },
  {
   "cell_type": "code",
   "execution_count": 5,
   "metadata": {
    "colab": {
     "base_uri": "https://localhost:8080/"
    },
    "id": "DGczKDf9DrpO",
    "outputId": "aed93d68-6cf4-4210-9c9a-02fe1aad466b"
   },
   "outputs": [
    {
     "name": "stdout",
     "output_type": "stream",
     "text": [
      "s = 5\n",
      "v=\n",
      " [[ 5]\n",
      " [-2]\n",
      " [ 4]]\n",
      "A=\n",
      " [[1 2 3]\n",
      " [4 5 6]\n",
      " [7 8 9]]\n",
      "B=\n",
      " [[1 2 3]\n",
      " [4 5 6]]\n",
      "C=\n",
      " [[1 4]\n",
      " [2 5]\n",
      " [3 6]]\n"
     ]
    }
   ],
   "source": [
    "#type your code here:\n"
   ]
  },
  {
   "cell_type": "markdown",
   "metadata": {
    "id": "TgfbwPvsDrpR"
   },
   "source": [
    "b) Print the data type of $s, v,$ and $A$ using `type` command in python."
   ]
  },
  {
   "cell_type": "markdown",
   "metadata": {},
   "source": [
    "# <p style=\"padding:10px;background-color:cyan;margin:0;color:gray;font-family:newtimeroman;font-size:150%;text-align:center;border-radius: 15px 50px;overflow:hidden;font-weight:500\">Task2</p>"
   ]
  },
  {
   "cell_type": "code",
   "execution_count": 6,
   "metadata": {
    "colab": {
     "base_uri": "https://localhost:8080/"
    },
    "id": "pfinpWpfFpfW",
    "outputId": "ffdf25d6-3a91-4251-ef67-1eeaf0696fa4"
   },
   "outputs": [
    {
     "name": "stdout",
     "output_type": "stream",
     "text": [
      "type(s) =  <class 'int'>\n",
      "type(v) =  <class 'numpy.ndarray'>\n",
      "type(A) =  <class 'numpy.ndarray'>\n",
      "type(B) =  <class 'numpy.ndarray'>\n",
      "type(C) =  <class 'numpy.ndarray'>\n"
     ]
    }
   ],
   "source": [
    "print(\"type(s) = \",type(s))\n",
    "print(\"type(v) = \",type(v))\n",
    "print(\"type(A) = \",type(A))\n",
    "print(\"type(B) = \",type(B))\n",
    "print(\"type(C) = \",type(C))"
   ]
  },
  {
   "cell_type": "code",
   "execution_count": null,
   "metadata": {
    "id": "n6ydQcy7DrpT",
    "outputId": "7c82709a-1794-4cd6-a223-eb1d78d438ff"
   },
   "outputs": [
    {
     "name": "stdout",
     "output_type": "stream",
     "text": [
      "type(s) = <class 'numpy.ndarray'>\n",
      "\n",
      "type(v) = <class 'numpy.ndarray'>\n",
      "\n",
      "type(A) = <class 'numpy.ndarray'>\n",
      "\n"
     ]
    }
   ],
   "source": [
    "#type your code here:\n"
   ]
  },
  {
   "cell_type": "markdown",
   "metadata": {
    "id": "0GU37XB_DrpU"
   },
   "source": [
    "c) Using [numpy.shape](https://numpy.org/devdocs/reference/generated/numpy.shape.html) or `A.shape` print the shape of $s, v, A, B,$ and $C$."
   ]
  },
  {
   "cell_type": "markdown",
   "metadata": {},
   "source": [
    "# <p style=\"padding:10px;background-color:cyan;margin:0;color:gray;font-family:newtimeroman;font-size:150%;text-align:center;border-radius: 15px 50px;overflow:hidden;font-weight:500\">Task3</p>"
   ]
  },
  {
   "cell_type": "code",
   "execution_count": 7,
   "metadata": {
    "colab": {
     "base_uri": "https://localhost:8080/"
    },
    "id": "ubBn71mFGdYC",
    "outputId": "ceea8880-90d3-483c-fa47-101f31d74a18"
   },
   "outputs": [
    {
     "name": "stdout",
     "output_type": "stream",
     "text": [
      "s.shape =  ()\n",
      "v.shape =  (3,)\n",
      "A.shape =  (3, 3)\n",
      "B.shape =  (2, 3)\n",
      "C.shape =  (3, 2)\n"
     ]
    }
   ],
   "source": [
    "print(\"s.shape = \",np.array(s).shape)\n",
    "print(\"v.shape = \",v.shape)\n",
    "print(\"A.shape = \",A.shape)\n",
    "print(\"B.shape = \",B.shape)\n",
    "print(\"C.shape = \",C.shape)"
   ]
  },
  {
   "cell_type": "code",
   "execution_count": null,
   "metadata": {
    "id": "BSX-4JeWDrpW",
    "outputId": "ab9e92fb-ca15-44f6-ad87-ee36ba451890"
   },
   "outputs": [
    {
     "name": "stdout",
     "output_type": "stream",
     "text": [
      "s.shape = ()\n",
      "\n",
      "v.shape = (3, 1)\n",
      "\n",
      "A.shape = (3, 3)\n",
      "\n",
      "B.shape = (2, 3)\n",
      "\n",
      "C.shape = (3, 2)\n",
      "\n"
     ]
    }
   ],
   "source": [
    "#type your code here:\n"
   ]
  },
  {
   "cell_type": "markdown",
   "metadata": {
    "id": "4wt275hbDrpX"
   },
   "source": [
    "d) To access a given entry in the `numpy array` put the `row number - 1` and `column number - 1` in square brackets following the array name. Ex `a32 = A[2, 1]`.\n",
    "- Print the value of the third row and the second column of the matrix $A$.\n",
    "- Change it to $10$.\n",
    "- Print the matrix A to check the entry is changed."
   ]
  },
  {
   "cell_type": "markdown",
   "metadata": {},
   "source": [
    "# <p style=\"padding:10px;background-color:cyan;margin:0;color:gray;font-family:newtimeroman;font-size:150%;text-align:center;border-radius: 15px 50px;overflow:hidden;font-weight:500\">Task4</p>"
   ]
  },
  {
   "cell_type": "code",
   "execution_count": 8,
   "metadata": {
    "colab": {
     "base_uri": "https://localhost:8080/"
    },
    "id": "U2VLw0usILfV",
    "outputId": "103e15f3-c61b-4134-df70-59c5bdc55e83"
   },
   "outputs": [
    {
     "name": "stdout",
     "output_type": "stream",
     "text": [
      "A[2, 1] =  8\n",
      "\n",
      "\n",
      "A = \n",
      " [[1 2 3]\n",
      " [4 5 6]\n",
      " [7 8 9]]\n"
     ]
    }
   ],
   "source": [
    "print(\"A[2, 1] = \",str(A[2,1]))\n",
    "print(\"\\n\")\n",
    "print(\"A = \\n\",str(A))"
   ]
  },
  {
   "cell_type": "code",
   "execution_count": null,
   "metadata": {
    "id": "wPCBln7eDrpY",
    "outputId": "d89dc60f-4370-4c17-e67f-a16632302378"
   },
   "outputs": [
    {
     "name": "stdout",
     "output_type": "stream",
     "text": [
      "A[2, 1] =  8\n",
      "\n",
      "A =\n",
      " [[ 1  2  3]\n",
      " [ 4  5  6]\n",
      " [ 7 10  9]]\n",
      "\n"
     ]
    }
   ],
   "source": [
    "#type your code here:\n"
   ]
  },
  {
   "cell_type": "markdown",
   "metadata": {
    "id": "y6KASvIfDrpZ"
   },
   "source": [
    "e)To access a whole row or column of a matrix, use the colon operator. For example, `A[:, [1]]` is the second column of A, while `B[[1], :]` is the second row of B."
   ]
  },
  {
   "cell_type": "markdown",
   "metadata": {},
   "source": [
    "# <p style=\"padding:10px;background-color:cyan;margin:0;color:gray;font-family:newtimeroman;font-size:150%;text-align:center;border-radius: 15px 50px;overflow:hidden;font-weight:500\">Task5</p>"
   ]
  },
  {
   "cell_type": "code",
   "execution_count": 9,
   "metadata": {
    "colab": {
     "base_uri": "https://localhost:8080/"
    },
    "id": "jKo0by0VI27c",
    "outputId": "e6e44e6f-0d11-4cfd-9b45-068a6efd31f1"
   },
   "outputs": [
    {
     "name": "stdout",
     "output_type": "stream",
     "text": [
      "A[:, [1]] =\n",
      " [[2]\n",
      " [5]\n",
      " [8]]\n",
      "\n",
      "\n",
      "B[[1], :] =\n",
      " [[4 5 6]]\n"
     ]
    }
   ],
   "source": [
    "print(\"A[:, [1]] =\\n\",str(A[:,1:2]))\n",
    "print(\"\\n\")\n",
    "print(\"B[[1], :] =\\n\",str(B[1:2,:]))"
   ]
  },
  {
   "cell_type": "code",
   "execution_count": null,
   "metadata": {
    "id": "d4cHn6HDDrpa",
    "outputId": "0861c36e-df57-4148-fc34-1db26fd80bbc"
   },
   "outputs": [
    {
     "name": "stdout",
     "output_type": "stream",
     "text": [
      "A[:, [1]] =\n",
      " [[ 2]\n",
      " [ 5]\n",
      " [10]]\n",
      "\n",
      "B[[1], :] =\n",
      " [[4 5 6]]\n",
      "\n"
     ]
    }
   ],
   "source": [
    "#type your code here:\n"
   ]
  },
  {
   "cell_type": "markdown",
   "metadata": {
    "id": "XQDCcRj7Drpb"
   },
   "source": [
    "f) Type each of the following commands that generate special matrices:\n",
    "- `np.eye(4), np.zeros(3), np.zeros((3, 1)), np.zeros((3, 5)), np.ones((2, 3)), and np.diag([4, 5, 6, 7])`"
   ]
  },
  {
   "cell_type": "markdown",
   "metadata": {},
   "source": [
    "# <p style=\"padding:10px;background-color:cyan;margin:0;color:gray;font-family:newtimeroman;font-size:150%;text-align:center;border-radius: 15px 50px;overflow:hidden;font-weight:500\">Task6</p>"
   ]
  },
  {
   "cell_type": "code",
   "execution_count": 10,
   "metadata": {
    "colab": {
     "base_uri": "https://localhost:8080/"
    },
    "id": "98deSk0kJ1to",
    "outputId": "d8e34018-51cf-4752-e198-0bf748748127"
   },
   "outputs": [
    {
     "name": "stdout",
     "output_type": "stream",
     "text": [
      "np.eye(4) =\n",
      " [[1. 0. 0. 0.]\n",
      " [0. 1. 0. 0.]\n",
      " [0. 0. 1. 0.]\n",
      " [0. 0. 0. 1.]]\n",
      "\n",
      "\n",
      "np.zeros(3) =\n",
      " [0. 0. 0.]\n",
      "\n",
      "\n",
      "np.zeros(3,1) =\n",
      " [[0.]\n",
      " [0.]\n",
      " [0.]]\n",
      "\n",
      "\n",
      "np.zeros(3,5) =\n",
      " [[0. 0. 0. 0. 0.]\n",
      " [0. 0. 0. 0. 0.]\n",
      " [0. 0. 0. 0. 0.]]\n",
      "\n",
      "\n",
      "np.ones(2,3) =\n",
      " [[1. 1. 1.]\n",
      " [1. 1. 1.]]\n",
      "\n",
      "\n",
      "np.diag([4,5,6,7]) =\n",
      " [[4 0 0 0]\n",
      " [0 5 0 0]\n",
      " [0 0 6 0]\n",
      " [0 0 0 7]]\n"
     ]
    }
   ],
   "source": [
    "print(\"np.eye(4) =\\n\",str(np.eye(4)))\n",
    "print(\"\\n\")\n",
    "print(\"np.zeros(3) =\\n\",str(np.zeros(3)))\n",
    "print(\"\\n\")\n",
    "print(\"np.zeros(3,1) =\\n\",str(np.zeros((3,1))))\n",
    "print(\"\\n\")\n",
    "print(\"np.zeros(3,5) =\\n\",str(np.zeros((3,5))))\n",
    "print(\"\\n\")\n",
    "print(\"np.ones(2,3) =\\n\",str(np.ones((2,3))))\n",
    "print(\"\\n\")\n",
    "print(\"np.diag([4,5,6,7]) =\\n\",str(np.diag([4,5,6,7])))"
   ]
  },
  {
   "cell_type": "code",
   "execution_count": null,
   "metadata": {
    "id": "1OOtQDbQDrpc",
    "outputId": "d168d69b-ae6c-41df-a926-56264fb3444c"
   },
   "outputs": [
    {
     "name": "stdout",
     "output_type": "stream",
     "text": [
      "np.eye(4) =\n",
      " [[1. 0. 0. 0.]\n",
      " [0. 1. 0. 0.]\n",
      " [0. 0. 1. 0.]\n",
      " [0. 0. 0. 1.]]\n",
      "\n",
      "np.zeros(3) =\n",
      " [0. 0. 0.]\n",
      "\n",
      "np.zeros(3, 1) =\n",
      " [[0.]\n",
      " [0.]\n",
      " [0.]]\n",
      "\n",
      "np.zeros(3, 5) =\n",
      " [[0. 0. 0. 0. 0.]\n",
      " [0. 0. 0. 0. 0.]\n",
      " [0. 0. 0. 0. 0.]]\n",
      "\n",
      "np.ones(2, 3) =\n",
      " [[1. 1. 1.]\n",
      " [1. 1. 1.]]\n",
      "\n",
      "np.diag([4 5 6 7]) =\n",
      " [[4 0 0 0]\n",
      " [0 5 0 0]\n",
      " [0 0 6 0]\n",
      " [0 0 0 7]]\n"
     ]
    }
   ],
   "source": [
    "#type your code here:\n"
   ]
  },
  {
   "cell_type": "markdown",
   "metadata": {
    "id": "bZiF9AT6Drpc"
   },
   "source": [
    "# Question 2. Vectors Addition, Scaling, and dot product"
   ]
  },
  {
   "cell_type": "markdown",
   "metadata": {
    "id": "GmaAWiX8Drpd"
   },
   "source": [
    "a) Declare vectors $v1 = \\begin{bmatrix} 1  \\\\ 2 \\\\ 7  \\\\ 4 \\\\ \\end{bmatrix}$ and $v2 = \\begin{bmatrix} 4  \\\\ 3 \\\\ 6  \\\\ 8 \\\\ \\end{bmatrix}$\n",
    "\n",
    "- Addition: $v1 + v2$\n",
    "- Subtraction: $v1 - v2$\n",
    "- Scaling by a number: $3 * v1$\n",
    "- Scaling by a number: $v1 / 2$"
   ]
  },
  {
   "cell_type": "markdown",
   "metadata": {},
   "source": [
    "# <p style=\"padding:10px;background-color:cyan;margin:0;color:gray;font-family:newtimeroman;font-size:150%;text-align:center;border-radius: 15px 50px;overflow:hidden;font-weight:500\">Task7</p>"
   ]
  },
  {
   "cell_type": "code",
   "execution_count": 11,
   "metadata": {
    "colab": {
     "base_uri": "https://localhost:8080/"
    },
    "id": "rdfwSgmoLMvp",
    "outputId": "9e5df670-5ff8-4a0f-c385-d02d65d142ff"
   },
   "outputs": [
    {
     "name": "stdout",
     "output_type": "stream",
     "text": [
      "v1 = \n",
      " [[1]\n",
      " [2]\n",
      " [7]\n",
      " [4]]\n",
      "\n",
      "\n",
      "v2 = \n",
      " [[4]\n",
      " [3]\n",
      " [6]\n",
      " [8]]\n",
      "\n",
      "\n",
      "v1 + v2 =\n",
      " [[ 5]\n",
      " [ 5]\n",
      " [13]\n",
      " [12]]\n",
      "\n",
      "\n",
      "v1 - v2 =\n",
      " [[-3]\n",
      " [-1]\n",
      " [ 1]\n",
      " [-4]]\n",
      "\n",
      "\n",
      "3 * v1 =\n",
      " [[ 3]\n",
      " [ 6]\n",
      " [21]\n",
      " [12]]\n",
      "\n",
      "\n",
      "v1 / 2 =\n",
      " [[0.5]\n",
      " [1. ]\n",
      " [3.5]\n",
      " [2. ]]\n"
     ]
    }
   ],
   "source": [
    "v1 = np.array([1,2,7,4]).reshape(4,1)\n",
    "v2 = np.array([4,3,6,8]).reshape(4,1)\n",
    "print(\"v1 = \\n\",str(v1))\n",
    "print(\"\\n\")\n",
    "print(\"v2 = \\n\",str(v2))\n",
    "print(\"\\n\")\n",
    "print(\"v1 + v2 =\\n\",str(v1+v2))\n",
    "print(\"\\n\")\n",
    "print(\"v1 - v2 =\\n\",str(v1-v2))\n",
    "print(\"\\n\")\n",
    "print(\"3 * v1 =\\n\",str(3*v1))\n",
    "print(\"\\n\")\n",
    "print(\"v1 / 2 =\\n\",str(v1/2))"
   ]
  },
  {
   "cell_type": "code",
   "execution_count": null,
   "metadata": {
    "id": "RYmSI8dDDrpd",
    "outputId": "08707fcc-8191-46f1-a58a-114a1b0634e5"
   },
   "outputs": [
    {
     "name": "stdout",
     "output_type": "stream",
     "text": [
      "v1 =\n",
      " [[1]\n",
      " [2]\n",
      " [7]\n",
      " [4]]\n",
      "\n",
      "v2 =\n",
      " [[4]\n",
      " [3]\n",
      " [6]\n",
      " [8]]\n",
      "\n",
      "v1 + v2 =\n",
      " [[ 5]\n",
      " [ 5]\n",
      " [13]\n",
      " [12]]\n",
      "\n",
      "v1 - v2 =\n",
      " [[-3]\n",
      " [-1]\n",
      " [ 1]\n",
      " [-4]]\n",
      "\n",
      "3*v1 =\n",
      " [[ 3]\n",
      " [ 6]\n",
      " [21]\n",
      " [12]]\n",
      "\n",
      "v1/2 =\n",
      " [[0.5]\n",
      " [1. ]\n",
      " [3.5]\n",
      " [2. ]]\n",
      "\n"
     ]
    }
   ],
   "source": [
    "#type your code here:\n"
   ]
  },
  {
   "cell_type": "markdown",
   "metadata": {
    "id": "2RmWFsk7Drpe"
   },
   "source": [
    "b) Find the dot product between the two vectors $v1$ and $v2$ using the following:\n",
    "\n",
    "- [numpy.dot](https://numpy.org/doc/stable/reference/generated/numpy.dot.html)\n",
    "- [numpy.matmul](https://numpy.org/doc/stable/reference/generated/numpy.matmul.html#numpy.matmul)\n",
    "- `v1.T @ v2`"
   ]
  },
  {
   "cell_type": "markdown",
   "metadata": {},
   "source": [
    "# <p style=\"padding:10px;background-color:cyan;margin:0;color:gray;font-family:newtimeroman;font-size:150%;text-align:center;border-radius: 15px 50px;overflow:hidden;font-weight:500\">Task8</p>"
   ]
  },
  {
   "cell_type": "code",
   "execution_count": 12,
   "metadata": {
    "colab": {
     "base_uri": "https://localhost:8080/"
    },
    "id": "ndP1-47wM2Fa",
    "outputId": "e4ea837f-55b7-455c-a44f-9d31e4440752"
   },
   "outputs": [
    {
     "name": "stdout",
     "output_type": "stream",
     "text": [
      "Using numpy.dot = \n",
      " [[84]]\n",
      "\n",
      "\n",
      "Using numpy.matmul = \n",
      " [[84]]\n",
      "\n",
      "\n",
      "Using  @ = \n",
      " [[84]]\n"
     ]
    }
   ],
   "source": [
    "print(\"Using numpy.dot = \\n\",str(np.dot(v1.T,v2)))\n",
    "print(\"\\n\")\n",
    "print(\"Using numpy.matmul = \\n\",str(np.matmul(v1.T,v2)))\n",
    "print(\"\\n\")\n",
    "print(\"Using  @ = \\n\",str(v1.T @ v2))"
   ]
  },
  {
   "cell_type": "code",
   "execution_count": null,
   "metadata": {
    "id": "whue7utWDrpf",
    "outputId": "d8279073-856a-4102-dde5-7c3fed054e67"
   },
   "outputs": [
    {
     "name": "stdout",
     "output_type": "stream",
     "text": [
      "Using numpy.dot =\n",
      " [[84]]\n",
      "\n",
      "Using numpy.matmul =\n",
      " [[84]]\n",
      "\n",
      "Using @ =\n",
      " [[84]]\n",
      "\n"
     ]
    }
   ],
   "source": [
    "#type your code here:\n"
   ]
  },
  {
   "cell_type": "markdown",
   "metadata": {
    "id": "Fwtnx3MBDrpf"
   },
   "source": [
    "c) Find the length of the vectors $v1$ and $v2$.\n",
    "- Using [numpy.linalg.norm](https://numpy.org/doc/stable/reference/generated/numpy.linalg.norm.html)\n",
    "- Using the dot product and [numpy.sqrt](https://numpy.org/doc/stable/reference/generated/numpy.sqrt.html)\n"
   ]
  },
  {
   "cell_type": "markdown",
   "metadata": {},
   "source": [
    "# <p style=\"padding:10px;background-color:cyan;margin:0;color:gray;font-family:newtimeroman;font-size:150%;text-align:center;border-radius: 15px 50px;overflow:hidden;font-weight:500\">Task9</p>"
   ]
  },
  {
   "cell_type": "code",
   "execution_count": 13,
   "metadata": {
    "colab": {
     "base_uri": "https://localhost:8080/"
    },
    "id": "qJUBp5-GNSg1",
    "outputId": "203659fb-91eb-47cc-a063-e26a2cca32b4"
   },
   "outputs": [
    {
     "name": "stdout",
     "output_type": "stream",
     "text": [
      "length of v1 Using numpy.linalg.norm =\n",
      " 8.366600265340756\n",
      "\n",
      "\n",
      "length of v2 Using numpy.linalg.norm =\n",
      " 11.180339887498949\n",
      "\n",
      "\n",
      "length of v1 Using the dot product and numpy.sqrt =\n",
      " [[8.36660027]]\n",
      "\n",
      "\n",
      "length of v2 Using the dot product and numpy.sqrt =\n",
      " [[11.18033989]]\n"
     ]
    }
   ],
   "source": [
    "print(\"length of v1 Using numpy.linalg.norm =\\n\",str((np.linalg.norm(v1))))\n",
    "print(\"\\n\")\n",
    "print(\"length of v2 Using numpy.linalg.norm =\\n\",str((np.linalg.norm(v2))))\n",
    "print(\"\\n\")\n",
    "print(\"length of v1 Using the dot product and numpy.sqrt =\\n\",str((np.sqrt(v1.T @ v1))))\n",
    "print(\"\\n\")\n",
    "print(\"length of v2 Using the dot product and numpy.sqrt =\\n\",str((np.sqrt(v2.T @ v2))))"
   ]
  },
  {
   "cell_type": "code",
   "execution_count": null,
   "metadata": {
    "id": "eSMCKYY4Drpg",
    "outputId": "c0ada5e3-bba8-4f5e-b2a8-11515d42a284"
   },
   "outputs": [
    {
     "name": "stdout",
     "output_type": "stream",
     "text": [
      "length of v1 Using numpy.linalg.norm =\n",
      " 8.366600265340756\n",
      "\n",
      "length of v2 Using numpy.linalg.norm =\n",
      " 11.180339887498949\n",
      "\n",
      "length of v1 Using the dot product and numpy.sqrt =\n",
      " [[8.36660027]]\n",
      "\n",
      "length of v2 Using the dot product and numpy.sqrt =\n",
      " [[11.18033989]]\n",
      "\n"
     ]
    }
   ],
   "source": [
    "#type your code here:\n"
   ]
  },
  {
   "cell_type": "markdown",
   "metadata": {
    "id": "pBhRsg0JDrph"
   },
   "source": [
    "d) Show that the vectors $u = \\begin{bmatrix} 3  \\\\ 2 \\\\ -1  \\\\ 4 \\\\ \\end{bmatrix}$ and $v = \\begin{bmatrix} 1  \\\\ -1 \\\\ 1  \\\\ 0 \\\\ \\end{bmatrix}$ are orthogonal.\n"
   ]
  },
  {
   "cell_type": "markdown",
   "metadata": {},
   "source": [
    "# <p style=\"padding:10px;background-color:cyan;margin:0;color:gray;font-family:newtimeroman;font-size:150%;text-align:center;border-radius: 15px 50px;overflow:hidden;font-weight:500\">Task10</p>"
   ]
  },
  {
   "cell_type": "code",
   "execution_count": 14,
   "metadata": {
    "colab": {
     "base_uri": "https://localhost:8080/"
    },
    "id": "WzOuEZEEOIoJ",
    "outputId": "b5bcdc98-e2e6-44aa-b8b1-a53a378e59d4"
   },
   "outputs": [
    {
     "name": "stdout",
     "output_type": "stream",
     "text": [
      "u.T @ v = \n",
      " [[0]]\n"
     ]
    }
   ],
   "source": [
    "u=np.array([[3],[2],[-1],[4]])\n",
    "v=np.array([[1],[-1],[1],[0]])\n",
    "#u=np.array([3,2,-1,4]).reshape(4,1)\n",
    "#v=np.array([1,-1,1,0]).reshape(4,1)\n",
    "print(\"u.T @ v = \\n\",str(u.T @ v))"
   ]
  },
  {
   "cell_type": "code",
   "execution_count": null,
   "metadata": {
    "id": "dIzsBr-oDrpi",
    "outputId": "f64cd7fc-91fc-487a-f522-c3b4e4d10306"
   },
   "outputs": [
    {
     "name": "stdout",
     "output_type": "stream",
     "text": [
      "u.T @ v =\n",
      " [[0]]\n",
      "\n"
     ]
    }
   ],
   "source": [
    "#type your code here:\n"
   ]
  },
  {
   "cell_type": "markdown",
   "metadata": {
    "id": "O6kY2X0SDrpj"
   },
   "source": [
    "# Question 3. Matrix Addition and Matrix-Vector Multiplication\n",
    "\n",
    "Declare vectors $u$ and $v$ and matrices $A$ and $B$ as following:\n",
    "- $u = \\begin{bmatrix} 2  \\\\ 7 \\\\ 2 \\\\ \\end{bmatrix}$, $v = \\begin{bmatrix} 8  \\\\ 2 \\\\ 4 \\\\ \\end{bmatrix}$\n",
    "- $A = \\begin{bmatrix} 7 & 3 & 5  \\\\ 4 & 6 & 2 \\\\ \\end{bmatrix}$, $B = \\begin{bmatrix} 0 & 6 & 4  \\\\ 2 & 3 & 0 \\\\ \\end{bmatrix}$\n",
    "\n",
    "a) Calculate the following using python.\n",
    "\n",
    "- $A+B$\n",
    "- $B+A$\n",
    "- $3A$\n",
    "- $6B$\n",
    "- $2(3B)$\n",
    "- $6A+15B$\n",
    "- $3(2A+5B)$\n",
    "- $(3A^T)^T$"
   ]
  },
  {
   "cell_type": "markdown",
   "metadata": {},
   "source": [
    "# <p style=\"padding:10px;background-color:cyan;margin:0;color:gray;font-family:newtimeroman;font-size:150%;text-align:center;border-radius: 15px 50px;overflow:hidden;font-weight:500\">Task11</p>"
   ]
  },
  {
   "cell_type": "code",
   "execution_count": 15,
   "metadata": {
    "colab": {
     "base_uri": "https://localhost:8080/"
    },
    "id": "QYSI0MPDPT_n",
    "outputId": "93bfc09d-727d-4f3c-90c1-4d51ea2ac3e3"
   },
   "outputs": [
    {
     "name": "stdout",
     "output_type": "stream",
     "text": [
      "u = \n",
      " [[2]\n",
      " [7]\n",
      " [2]]\n",
      "\n",
      "\n",
      "v = \n",
      " [[8]\n",
      " [2]\n",
      " [4]]\n",
      "\n",
      "\n",
      "A = \n",
      " [[7 3 5]\n",
      " [4 6 2]]\n",
      "\n",
      "\n",
      "B = \n",
      " [[0 6 4]\n",
      " [2 3 0]]\n"
     ]
    }
   ],
   "source": [
    "u=np.array([2,7,2]).reshape(3,1)\n",
    "v=np.array([8,2,4]).reshape(3,1)\n",
    "A=np.array([[7,3,5],[4,6,2]])\n",
    "B=np.array([[0,6,4],[2,3,0]])\n",
    "print(\"u = \\n\",str(u))\n",
    "print(\"\\n\")\n",
    "print(\"v = \\n\",str(v))\n",
    "print(\"\\n\")\n",
    "print(\"A = \\n\",str(A))\n",
    "print(\"\\n\")\n",
    "print(\"B = \\n\",str(B))"
   ]
  },
  {
   "cell_type": "code",
   "execution_count": 16,
   "metadata": {
    "colab": {
     "base_uri": "https://localhost:8080/"
    },
    "id": "rM4FHGEJQHMB",
    "outputId": "e22a7c5e-4820-4a91-f59d-92328e81a944"
   },
   "outputs": [
    {
     "name": "stdout",
     "output_type": "stream",
     "text": [
      "A+B= \n",
      " [[7 9 9]\n",
      " [6 9 2]]\n",
      "\n",
      "\n",
      "B+A= \n",
      " [[7 9 9]\n",
      " [6 9 2]]\n",
      "\n",
      "\n",
      "3A= \n",
      " [[21  9 15]\n",
      " [12 18  6]]\n",
      "\n",
      "\n",
      "6B= \n",
      " [[ 0 36 24]\n",
      " [12 18  0]]\n",
      "\n",
      "\n",
      "2(3B) =\n",
      " [[ 0 36 24]\n",
      " [12 18  0]]\n",
      "\n",
      "\n",
      "6A + 15B =\n",
      " [[ 42 108  90]\n",
      " [ 54  81  12]]\n",
      "\n",
      "\n",
      "3(2A + 5B) =\n",
      " [[ 42 108  90]\n",
      " [ 54  81  12]]\n",
      "\n",
      "\n",
      "(3A^T)^T =\n",
      " [[21  9 15]\n",
      " [12 18  6]]\n"
     ]
    }
   ],
   "source": [
    "print(\"A+B= \\n\",str(A+B))\n",
    "print(\"\\n\")\n",
    "print(\"B+A= \\n\",str(B+A))\n",
    "print(\"\\n\")\n",
    "print(\"3A= \\n\",str(3*A))\n",
    "print(\"\\n\")\n",
    "print(\"6B= \\n\",str(6*B))\n",
    "print(\"\\n\")\n",
    "print(\"2(3B) =\\n\",str(2*(3*B)))\n",
    "print(\"\\n\")\n",
    "print(\"6A + 15B =\\n\",str((6*A) + (15*B)))\n",
    "print(\"\\n\")\n",
    "print(\"3(2A + 5B) =\\n\",str((3*((2*A)+(5*B)))))\n",
    "print(\"\\n\")\n",
    "print(\"(3A^T)^T =\\n\",str(((3*A).T).T))\n",
    "\n"
   ]
  },
  {
   "cell_type": "code",
   "execution_count": null,
   "metadata": {
    "id": "6btCFiQxDrpk",
    "outputId": "4f15db34-601e-4475-89c0-9011731aacb9"
   },
   "outputs": [
    {
     "name": "stdout",
     "output_type": "stream",
     "text": [
      "u =\n",
      " [[2]\n",
      " [7]\n",
      " [2]]\n",
      "\n",
      "v =\n",
      " [[8]\n",
      " [2]\n",
      " [4]]\n",
      "\n",
      "A =\n",
      " [[7 3 5]\n",
      " [4 6 2]]\n",
      "\n",
      "B =\n",
      " [[0 6 4]\n",
      " [2 3 0]]\n",
      "\n",
      "A + B =\n",
      " [[7 9 9]\n",
      " [6 9 2]]\n",
      "\n",
      "B + A =\n",
      " [[7 9 9]\n",
      " [6 9 2]]\n",
      "\n",
      "3A =\n",
      " [[21  9 15]\n",
      " [12 18  6]]\n",
      "\n",
      "6B =\n",
      " [[ 0 36 24]\n",
      " [12 18  0]]\n",
      "\n",
      "2(3B) =\n",
      " [[ 0 36 24]\n",
      " [12 18  0]]\n",
      "\n",
      "6A + 15B =\n",
      " [[ 42 108  90]\n",
      " [ 54  81  12]]\n",
      "\n",
      "3(2A + 5B) =\n",
      " [[ 42 108  90]\n",
      " [ 54  81  12]]\n",
      "\n",
      "\n",
      " (3A^T)^T = \n",
      " [[21  9 15]\n",
      " [12 18  6]]\n"
     ]
    }
   ],
   "source": [
    "#type your code here:\n"
   ]
  },
  {
   "cell_type": "markdown",
   "metadata": {
    "id": "u63FRe5hDrpl"
   },
   "source": [
    "b) To obtain the matrix-vector product $Au$ using python, type `A @ u`. Calculate the following:\n",
    "\n",
    "- $Au+Av$\n",
    "- $A(u+v)$\n",
    "- $(A+B)u$\n",
    "- $Au+Bu$\n",
    "- $A(3u)$\n",
    "- $3A(u)$"
   ]
  },
  {
   "cell_type": "markdown",
   "metadata": {},
   "source": [
    "# <p style=\"padding:10px;background-color:cyan;margin:0;color:gray;font-family:newtimeroman;font-size:150%;text-align:center;border-radius: 15px 50px;overflow:hidden;font-weight:500\">Task12</p>"
   ]
  },
  {
   "cell_type": "code",
   "execution_count": 17,
   "metadata": {
    "colab": {
     "base_uri": "https://localhost:8080/"
    },
    "id": "cnKeAic-UaK1",
    "outputId": "9949a34c-ebf2-430b-9da8-7cdb4e9b4b02"
   },
   "outputs": [
    {
     "name": "stdout",
     "output_type": "stream",
     "text": [
      "AU + Av =\n",
      " [[127]\n",
      " [106]]\n",
      "\n",
      "\n",
      "A(u + v) =\n",
      " [[127]\n",
      " [106]]\n",
      "\n",
      "\n",
      "(A + B)u =\n",
      " [[95]\n",
      " [79]]\n",
      "\n",
      "\n",
      "Au + Bu =\n",
      " [[95]\n",
      " [79]]\n",
      "\n",
      "\n",
      "A(3u) =\n",
      " [[135]\n",
      " [162]]\n",
      "\n",
      "\n",
      "3A(u) =\n",
      " [[135]\n",
      " [162]]\n"
     ]
    }
   ],
   "source": [
    "print(\"AU + Av =\\n\",str(np.dot(A,u)+np.dot(A,v)))\n",
    "print(\"\\n\")\n",
    "print(\"A(u + v) =\\n\",str(A @ (u+v)))\n",
    "print(\"\\n\")\n",
    "print(\"(A + B)u =\\n\",str(np.matmul((A + B),u)))\n",
    "print(\"\\n\")\n",
    "print(\"Au + Bu =\\n\",str((A @ u) + (B @ u)))\n",
    "print(\"\\n\")\n",
    "print(\"A(3u) =\\n\",str(np.dot(A,(3*u))))\n",
    "print(\"\\n\")\n",
    "print(\"3A(u) =\\n\",str((3*A) @ u))"
   ]
  },
  {
   "cell_type": "code",
   "execution_count": null,
   "metadata": {
    "id": "qVPeIbieDrpl",
    "outputId": "9bc57f7f-5ba8-45f6-f711-a372187c2862"
   },
   "outputs": [
    {
     "name": "stdout",
     "output_type": "stream",
     "text": [
      "Au + Av =\n",
      " [[127]\n",
      " [106]]\n",
      "\n",
      "A(u + v) =\n",
      " [[127]\n",
      " [106]]\n",
      "\n",
      "(A + B)u =\n",
      " [[95]\n",
      " [79]]\n",
      "\n",
      "Au + Bu =\n",
      " [[95]\n",
      " [79]]\n",
      "\n",
      "A(3u) =\n",
      " [[135]\n",
      " [162]]\n",
      "\n",
      "3A(u) =\n",
      " [[135]\n",
      " [162]]\n",
      "\n"
     ]
    }
   ],
   "source": [
    "#type your code here:\n"
   ]
  },
  {
   "cell_type": "markdown",
   "metadata": {
    "id": "A1J7Y7mlDrpm"
   },
   "source": [
    "# Question 4. Gaussian Elimination and Reduced Row-Echelon Form"
   ]
  },
  {
   "cell_type": "markdown",
   "metadata": {
    "id": "XDcxTnitDrpm"
   },
   "source": [
    "You will see a step-by-step example of the row operations that transform a matrix $A$ into its reduced row echelon form $R = rref(A)$. In this demonstration, each pivot is chosen to be the largest in its column (for numerical stability), so extra row interchanges are used. Since $rref(A)$ is uniquely determined by $A$, this does not affect the final answer.\n",
    "\n",
    "The built in [rref](https://docs.sympy.org/latest/tutorial/matrices.html#rref) method `sympy.rref()` method just search for the method and its output to deal with the code."
   ]
  },
  {
   "cell_type": "markdown",
   "metadata": {
    "id": "QovDC5vZDrpn"
   },
   "source": [
    "#### (a) Generate and display a $3 \\times 4$ matrix $A$ with random integer entries"
   ]
  },
  {
   "cell_type": "code",
   "execution_count": 158,
   "metadata": {
    "colab": {
     "base_uri": "https://localhost:8080/"
    },
    "id": "ROUaMz3fDrpn",
    "outputId": "8ec07ec6-5da4-45a8-f51e-65f69e38f094"
   },
   "outputs": [
    {
     "name": "stdout",
     "output_type": "stream",
     "text": [
      "\n",
      " A = \n",
      " [[7. 4. 7. 1.]\n",
      " [1. 8. 8. 4.]\n",
      " [1. 8. 1. 5.]]\n"
     ]
    }
   ],
   "source": [
    "#type your code here:\n",
    "A = np.fix((10*(np.random.rand(3,4))))\n",
    "print(\"\\n A = \\n\", A)"
   ]
  },
  {
   "cell_type": "markdown",
   "metadata": {
    "id": "XFQ1h7V2Drpo"
   },
   "source": [
    "- To transform $A$ into $R = rref(A)$, start with $R = A$.\n",
    "- Normalize the first row of R to get R(1st row, 1st column) = 1\n",
    "\n",
    "    - `R = A`\n",
    "    - `R[0,:] = R[0, :] / R[0, 0]`\n",
    "\n",
    "(note the use of the colon to operate on whole rows of the matrix).\n",
    "\n",
    "<div class=\"alert alert-block alert-warning\">If your random matrix happens to have A(1, 1) = 0, then interchange rows to get a nonzero entry in the (1, 1) position before doing the calculation above.</div>\n",
    "\n",
    "- Now subtract a multiple of the first row of R from the second row to make R(2, 1) = 0:\n",
    "\n",
    "    - `R[1, :] = R[1, :] - R[1, 0] * R[0, :]`\n",
    "\n",
    "- Repeat this procedure to make R(3, 1) = 0:\n",
    "\n",
    "    - `R[2, :] = R[2, :] - R[2, 0] * R[0, :]`\n",
    "\n",
    "The first column of your matrix $R$ should now be the same as the first column of $rref(A)$."
   ]
  },
  {
   "cell_type": "code",
   "execution_count": 110,
   "metadata": {
    "colab": {
     "base_uri": "https://localhost:8080/",
     "height": 78
    },
    "id": "AFJ1R9vw1tjs",
    "outputId": "77c471a9-9e43-4ce1-e9a1-b84c8380b34f"
   },
   "outputs": [
    {
     "data": {
      "text/latex": [
       "$\\displaystyle \\left[\\begin{matrix}0.0 & 5.0 & 7.0 & 6.0\\\\1.0 & 1.0 & 1.0 & 4.0\\\\9.0 & 9.0 & 6.0 & 1.0\\end{matrix}\\right]$"
      ],
      "text/plain": [
       "Matrix([\n",
       "[0.0, 5.0, 7.0, 6.0],\n",
       "[1.0, 1.0, 1.0, 4.0],\n",
       "[9.0, 9.0, 6.0, 1.0]])"
      ]
     },
     "execution_count": 110,
     "metadata": {},
     "output_type": "execute_result"
    }
   ],
   "source": [
    "sym.Matrix(A)"
   ]
  },
  {
   "cell_type": "markdown",
   "metadata": {},
   "source": [
    "# <p style=\"padding:10px;background-color:cyan;margin:0;color:gray;font-family:newtimeroman;font-size:150%;text-align:center;border-radius: 15px 50px;overflow:hidden;font-weight:500\">Task13</p>"
   ]
  },
  {
   "cell_type": "code",
   "execution_count": 159,
   "metadata": {
    "colab": {
     "base_uri": "https://localhost:8080/"
    },
    "id": "jaSDgjsL3c1f",
    "outputId": "032f8390-62c4-4998-9699-d57f3ae78538"
   },
   "outputs": [
    {
     "name": "stdout",
     "output_type": "stream",
     "text": [
      "[[1.         0.57142857 1.         0.14285714]\n",
      " [1.         8.         8.         4.        ]\n",
      " [1.         8.         1.         5.        ]]\n"
     ]
    }
   ],
   "source": [
    "R=A.copy()\n",
    "R[0,:]/=R[0][0]\n",
    "print(R)\n",
    "\n",
    "\n"
   ]
  },
  {
   "cell_type": "code",
   "execution_count": 160,
   "metadata": {
    "colab": {
     "base_uri": "https://localhost:8080/"
    },
    "id": "AS_dYMQu7uRN",
    "outputId": "777594d0-27e2-4ccf-a0b8-9210f9fbccfa"
   },
   "outputs": [
    {
     "name": "stdout",
     "output_type": "stream",
     "text": [
      "[[ 1.          0.57142857  1.          0.14285714]\n",
      " [ 0.         -7.42857143 -7.         -3.85714286]\n",
      " [ 1.          8.          1.          5.        ]]\n"
     ]
    }
   ],
   "source": [
    "R[1,:]=R[0,:]*R[1][0]-R[1,:]\n",
    "print(R)"
   ]
  },
  {
   "cell_type": "code",
   "execution_count": 161,
   "metadata": {
    "colab": {
     "base_uri": "https://localhost:8080/"
    },
    "id": "zVAYI07-2X8H",
    "outputId": "4e982bb2-8395-482c-d5e6-8f1add13a050"
   },
   "outputs": [
    {
     "name": "stdout",
     "output_type": "stream",
     "text": [
      "[[ 1.          0.57142857  1.          0.14285714]\n",
      " [ 0.         -7.42857143 -7.         -3.85714286]\n",
      " [ 0.         -7.42857143  0.         -4.85714286]]\n"
     ]
    }
   ],
   "source": [
    "R[2,:]=R[0,:]*R[2][0]-R[2,:]\n",
    "print(R)"
   ]
  },
  {
   "cell_type": "code",
   "execution_count": 162,
   "metadata": {
    "id": "OKaEqFrXDrpp"
   },
   "outputs": [],
   "source": [
    "#type your code here:\n"
   ]
  },
  {
   "cell_type": "markdown",
   "metadata": {
    "id": "Owtbh-q9Drpp"
   },
   "source": [
    "#### (b)Operate on $R$ by the same method as in (a) to obtain the second column of $rref(A)$. First normalize row $2$ of $R$, then subtract multiples of row $2$ from rows $1$ and $3$ to put zeros in the (1, 2) and (3, 2) positions. Be sure to refer to the entries in your matrix symbolically as was done in part (a)"
   ]
  },
  {
   "cell_type": "code",
   "execution_count": 163,
   "metadata": {
    "colab": {
     "base_uri": "https://localhost:8080/"
    },
    "id": "tEImlJCZ5sxn",
    "outputId": "3a9c6208-80b4-40d2-c239-8ca4a60f4a15"
   },
   "outputs": [
    {
     "name": "stdout",
     "output_type": "stream",
     "text": [
      "[[ 1.          0.57142857  1.          0.14285714]\n",
      " [-0.          1.          0.94230769  0.51923077]\n",
      " [ 0.         -7.42857143  0.         -4.85714286]]\n"
     ]
    }
   ],
   "source": [
    "R[1,:]/=R[1][1]\n",
    "print(R)"
   ]
  },
  {
   "cell_type": "code",
   "execution_count": 164,
   "metadata": {
    "colab": {
     "base_uri": "https://localhost:8080/"
    },
    "id": "VvyYry2A8MFC",
    "outputId": "9bbfd32e-7ccb-4658-cab8-6c53cdecfa86"
   },
   "outputs": [
    {
     "name": "stdout",
     "output_type": "stream",
     "text": [
      "[[ 1.          0.57142857  1.          0.14285714]\n",
      " [-0.          1.          0.94230769  0.51923077]\n",
      " [ 0.          0.          7.         -1.        ]]\n"
     ]
    }
   ],
   "source": [
    "R[2,:]=R[2,:]-R[2,1]*R[1,:]\n",
    "print(R)"
   ]
  },
  {
   "cell_type": "code",
   "execution_count": 165,
   "metadata": {
    "colab": {
     "base_uri": "https://localhost:8080/"
    },
    "id": "SgkDtzh79fzZ",
    "outputId": "8e53c5a4-1854-4412-95c1-3d35946f74c8"
   },
   "outputs": [
    {
     "name": "stdout",
     "output_type": "stream",
     "text": [
      "[[ 1.          0.          0.46153846 -0.15384615]\n",
      " [-0.          1.          0.94230769  0.51923077]\n",
      " [ 0.          0.          7.         -1.        ]]\n"
     ]
    }
   ],
   "source": [
    "R[0,:]-=R[0,1]*R[1,:]\n",
    "print(R)"
   ]
  },
  {
   "cell_type": "code",
   "execution_count": null,
   "metadata": {
    "id": "4X_9MdR6Drpq",
    "outputId": "7dbc7cfe-2e58-48a0-da32-1c1458e30faf"
   },
   "outputs": [
    {
     "name": "stdout",
     "output_type": "stream",
     "text": [
      "\n",
      " R = \n",
      " [[ 1.          0.          0.5         0.125     ]\n",
      " [ 0.          1.         -0.16666667  1.04166667]\n",
      " [ 0.          0.          6.16666667 -1.04166667]]\n"
     ]
    }
   ],
   "source": [
    "#type your code here:\n"
   ]
  },
  {
   "cell_type": "markdown",
   "metadata": {
    "id": "JQ-003RQDrps"
   },
   "source": [
    "#### (c) Operate on $R$ by the same method as in (b) to obtain the third column of $rref(A)$. First normalize row $3$ of $R$, then subtract multiples of row $3$ from rows $1$ and $2$ to put zeros in the (1, 3) and (2, 3) positions."
   ]
  },
  {
   "cell_type": "code",
   "execution_count": 166,
   "metadata": {
    "colab": {
     "base_uri": "https://localhost:8080/"
    },
    "id": "f9A99nXW7MwP",
    "outputId": "ea32651b-17d1-4eac-edb0-36b3270ecb1f"
   },
   "outputs": [
    {
     "name": "stdout",
     "output_type": "stream",
     "text": [
      "[[ 1.          0.          0.46153846 -0.15384615]\n",
      " [-0.          1.          0.94230769  0.51923077]\n",
      " [ 0.          0.          1.         -0.14285714]]\n"
     ]
    }
   ],
   "source": [
    "R[2,:]/=R[2][2]\n",
    "print(R)"
   ]
  },
  {
   "cell_type": "code",
   "execution_count": 167,
   "metadata": {
    "colab": {
     "base_uri": "https://localhost:8080/"
    },
    "id": "OQvJzwkj_rOr",
    "outputId": "7c49bbe8-91e7-4a65-8ad1-94fa5ff3c011"
   },
   "outputs": [
    {
     "name": "stdout",
     "output_type": "stream",
     "text": [
      "[[ 1.          0.          0.         -0.17582418]\n",
      " [-0.          1.          0.94230769  0.51923077]\n",
      " [ 0.          0.          1.         -0.14285714]]\n"
     ]
    }
   ],
   "source": [
    "R[0,:]-=R[0,:]*R[2,:]\n",
    "print(R)\n"
   ]
  },
  {
   "cell_type": "code",
   "execution_count": 168,
   "metadata": {
    "colab": {
     "base_uri": "https://localhost:8080/"
    },
    "id": "v9flYeWBAIgw",
    "outputId": "23ead357-77e1-4f3c-db56-cae7a85965d4"
   },
   "outputs": [
    {
     "name": "stdout",
     "output_type": "stream",
     "text": [
      "[[ 1.          0.          0.         -0.17582418]\n",
      " [ 0.          1.          0.          0.59340659]\n",
      " [ 0.          0.          1.         -0.14285714]]\n"
     ]
    }
   ],
   "source": [
    "R[1,:]-=R[1,:]*R[2,:]\n",
    "print(R)"
   ]
  },
  {
   "cell_type": "code",
   "execution_count": null,
   "metadata": {
    "id": "C-FQvsLTDrpt",
    "outputId": "b00dd4de-b53b-4d9f-e5a7-8e2557eee113"
   },
   "outputs": [
    {
     "name": "stdout",
     "output_type": "stream",
     "text": [
      "\n",
      " R = \n",
      " [[ 1.          0.          0.          0.20945946]\n",
      " [ 0.          1.          0.          1.01351351]\n",
      " [ 0.          0.          1.         -0.16891892]]\n"
     ]
    }
   ],
   "source": [
    "#type your code here:\n",
    "\n"
   ]
  },
  {
   "cell_type": "markdown",
   "metadata": {
    "id": "IpC0TW4zDrpt"
   },
   "source": [
    "#### (d) Your matrix $R$ should now be transformed into $rref(A)$ (since $A$ is a random $3 \\times 4$ matrix, $rref(A)$ is (almost) sure to have rank (3) `np.linalg.matrix_rank(R)`. Check your answer by python with the rref method . If the answer is not the same as the current value of your $R$, go back and redo your calculations.\n",
    "\n",
    "- use the the built in rref method `sympy.rref()`\n",
    "- print the output matrix in numpy array type\n",
    "\n",
    "    - `M = sym.Matrix(A)`\n",
    "    - `M_rref = M.rref()`\n",
    "    - `R = np.array((M_rref[0])).astype(np.float64)`"
   ]
  },
  {
   "cell_type": "code",
   "execution_count": 169,
   "metadata": {
    "id": "74d_2E6fDKxC"
   },
   "outputs": [],
   "source": [
    "M = sym.Matrix(A)\n",
    "M_rref = M.rref()\n",
    "R = np.array((M_rref[0])).astype(np.float64)"
   ]
  },
  {
   "cell_type": "code",
   "execution_count": 170,
   "metadata": {
    "colab": {
     "base_uri": "https://localhost:8080/"
    },
    "id": "mHxO7m0uENSL",
    "outputId": "17ac6714-cf8f-46bc-a85c-7a4e0373f428"
   },
   "outputs": [
    {
     "name": "stdout",
     "output_type": "stream",
     "text": [
      "[[ 1.          0.          0.         -0.08791209]\n",
      " [ 0.          1.          0.          0.65384615]\n",
      " [ 0.          0.          1.         -0.14285714]]\n"
     ]
    }
   ],
   "source": [
    "print(R)"
   ]
  },
  {
   "cell_type": "code",
   "execution_count": 171,
   "metadata": {
    "colab": {
     "base_uri": "https://localhost:8080/"
    },
    "id": "w2cTiSTdEbbV",
    "outputId": "034699c6-61a7-4b00-8707-24ccf6703ba9"
   },
   "outputs": [
    {
     "data": {
      "text/plain": [
       "3"
      ]
     },
     "execution_count": 171,
     "metadata": {},
     "output_type": "execute_result"
    }
   ],
   "source": [
    "np.linalg.matrix_rank(R)"
   ]
  },
  {
   "cell_type": "code",
   "execution_count": null,
   "metadata": {
    "id": "fhl6JeMODrqA",
    "outputId": "ee0328eb-a595-46d5-ffb2-8717de03d61c"
   },
   "outputs": [
    {
     "name": "stdout",
     "output_type": "stream",
     "text": [
      "\n",
      " rank = \n",
      " 3\n",
      "\n",
      " The Row echelon form of matrix M \n",
      " [[ 1.          0.          0.          0.20945946]\n",
      " [ 0.          1.          0.          1.01351351]\n",
      " [ 0.          0.          1.         -0.16891892]]\n"
     ]
    }
   ],
   "source": [
    "#type your code here:\n",
    "\n",
    "# Use sympy.rref() method\n"
   ]
  },
  {
   "cell_type": "markdown",
   "metadata": {
    "id": "gRu-QEQSDrqA"
   },
   "source": [
    "# Question 5. Matrix Multiplication using Different views"
   ]
  },
  {
   "cell_type": "markdown",
   "metadata": {
    "id": "Qe-AlipVDrqB"
   },
   "source": [
    "we discussed in the lecture four different ways about product $AB = C$ where $A$ and $B$ are arbitry matrices. If $A$ is an $m \\times n$ matrix and $B$ is an $n \\times p$ matrix, then $C$ is an $m \\times p$ matrix:\n",
    "\n",
    "1. **Standard(row times column):** The standard way of describing a matrix product is to say that $c_(ij)$ equals the dot product of row $i$ of matrix $A$ and column $j$ of matrix $B$.\n",
    "\n",
    "2. **Columns:** The product of matrix $A$ and column $j$ of matrix $B$ equals column $j$ of matrix  $C$. This tells us that the columns of $C$ are combinations of columns of $A$.\n",
    "\n",
    "3. **Rows:** The product of row $i$ of matrix $A$ and matrix $B$ equals row $i$ of matrix $C$.So the rows of $C$ are combinations of rows of $B$.\n",
    "\n",
    "4. **Column times row**: A column of $A$ is an $m \\times 1$ vector and a row of $B$ is a $1 \\times p$ vector.Their product is a matrix."
   ]
  },
  {
   "cell_type": "markdown",
   "metadata": {
    "id": "urn6-3L2DrqC"
   },
   "source": [
    "In this problem we will use python to perform the matrix multiplication using these different ways, and compute the execution time for each method time.\n",
    "\n",
    "(Write your code as a function that perform the multiplication for arbitrary size of the matrices $A$ and $B$)"
   ]
  },
  {
   "cell_type": "markdown",
   "metadata": {},
   "source": [
    "# <p style=\"padding:10px;background-color:cyan;margin:0;color:gray;font-family:newtimeroman;font-size:150%;text-align:center;border-radius: 15px 50px;overflow:hidden;font-weight:500\">Task14</p>"
   ]
  },
  {
   "cell_type": "code",
   "execution_count": 204,
   "metadata": {
    "id": "6nQUADpJRiKc"
   },
   "outputs": [],
   "source": [
    "def check_dimension(A, B):\n",
    "    return A.shape[1] == B.shape[0]\n",
    "\n",
    "def mat_mul_standard(A, B):\n",
    "    if not check_dimension(A, B):\n",
    "        raise Exception('Dimensions aren\\'t consistant')\n",
    "\n",
    "    m, n = A.shape\n",
    "    n, p = B.shape\n",
    "\n",
    "    C = np.zeros((m, p))\n",
    "    ################type your code here#####################\n",
    "    for i in range(m):\n",
    "        for j in range(p):\n",
    "            for k in range(n):\n",
    "                C[i,j]+=A[i,k]*B[k,j]\n",
    "\n",
    "    ########################################################\n",
    "    return C\n",
    "\n",
    "\n",
    "def mat_mul_columns(A, B):\n",
    "    if not check_dimension(A, B):\n",
    "        raise Exception('Dimensions aren\\'t consistant')\n",
    "\n",
    "    m, n = A.shape\n",
    "    n, p = B.shape\n",
    "\n",
    "    C = np.zeros((m, p))\n",
    "    ################type your code here#####################\n",
    "\n",
    "    for j in range(p):\n",
    "      for i in range(m):\n",
    "        for k in range(n):\n",
    "          C[i,j]+=A[i,k]*B[k,j]\n",
    "\n",
    "    '''    for j in range(p):\n",
    "        C[:,j]=np.dot(A,B[:,j])'''\n",
    "\n",
    "    ########################################################\n",
    "    return C\n",
    "\n",
    "def mat_mul_rows(A, B):\n",
    "    if not check_dimension(A, B):\n",
    "        raise Exception('Dimensions aren\\'t consistant')\n",
    "\n",
    "    m, n = A.shape\n",
    "    n, p = B.shape\n",
    "\n",
    "    C = np.zeros((m, p))\n",
    "    ################type your code here#####################\n",
    "    for i in range(m):\n",
    "        for j in range(n):\n",
    "            for k in range(p):\n",
    "                C[i,k]+=A[i,j]*B[j,k]\n",
    "\n",
    "        '''    for i in range(m):\n",
    "        C[i,:]=np.dot(A[i,:],B)'''\n",
    "\n",
    "    ########################################################\n",
    "    return C\n",
    "\n",
    "\n",
    "\n",
    "def mat_mul_column_times_row(A, B):\n",
    "    if not check_dimension(A, B):\n",
    "        raise Exception('Dimensions aren\\'t consistant')\n",
    "\n",
    "    m, n = A.shape\n",
    "    n, p = B.shape\n",
    "\n",
    "    C = np.zeros((m, p))\n",
    "    ################type your code here#####################\n",
    "    for i in range(m):\n",
    "      for j in range(p):\n",
    "        C[i,j]=np.dot(A[i,:],B[:,j])\n",
    "\n",
    "    ########################################################\n",
    "    return C"
   ]
  },
  {
   "cell_type": "code",
   "execution_count": null,
   "metadata": {
    "id": "DQuPL8kxDrqC"
   },
   "outputs": [],
   "source": [
    "def check_dimension(A, B):\n",
    "    return A.shape[1] == B.shape[0]\n",
    "\n",
    "def mat_mul_standard(A, B):\n",
    "    if not check_dimension(A, B):\n",
    "        raise Exception('Dimensions aren\\'t consistant')\n",
    "\n",
    "    m, n = A.shape\n",
    "    n, p = B.shape\n",
    "\n",
    "    C = np.zeros((m, p))\n",
    "    ################type your code here#####################\n",
    "\n",
    "\n",
    "    ########################################################\n",
    "    return C\n",
    "\n",
    "\n",
    "def mat_mul_columns(A, B):\n",
    "    if not check_dimension(A, B):\n",
    "        raise Exception('Dimensions aren\\'t consistant')\n",
    "\n",
    "    m, n = A.shape\n",
    "    n, p = B.shape\n",
    "\n",
    "    C = np.zeros((m, p))\n",
    "    ################type your code here#####################\n",
    "\n",
    "\n",
    "    ########################################################\n",
    "    return C\n",
    "\n",
    "def mat_mul_rows(A, B):\n",
    "    if not check_dimension(A, B):\n",
    "        raise Exception('Dimensions aren\\'t consistant')\n",
    "\n",
    "    m, n = A.shape\n",
    "    n, p = B.shape\n",
    "\n",
    "    C = np.zeros((m, p))\n",
    "    ################type your code here#####################\n",
    "\n",
    "\n",
    "    ########################################################\n",
    "    return C\n",
    "\n",
    "\n",
    "\n",
    "def mat_mul_column_times_row(A, B):\n",
    "    if not check_dimension(A, B):\n",
    "        raise Exception('Dimensions aren\\'t consistant')\n",
    "\n",
    "    m, n = A.shape\n",
    "    n, p = B.shape\n",
    "\n",
    "    C = np.zeros((m, p))\n",
    "    ################type your code here#####################\n",
    "\n",
    "\n",
    "    ########################################################\n",
    "    return C"
   ]
  },
  {
   "cell_type": "code",
   "execution_count": 179,
   "metadata": {
    "id": "52r7TYZYDrqD"
   },
   "outputs": [],
   "source": [
    "#A = np.array([[12., 7., 3.],[4., 5., 6.],[7., 8., 9.]])\n",
    "#B = np.array([[5., 8., 1., 2.],[6., 7., 3., 0.],[4., 5., 9., 1.]])\n",
    "\n",
    "A = np.fix((10*(np.random.rand(300, 300))))\n",
    "B = np.fix((10*(np.random.rand(300, 300))))"
   ]
  },
  {
   "cell_type": "code",
   "execution_count": 200,
   "metadata": {
    "colab": {
     "base_uri": "https://localhost:8080/"
    },
    "id": "1earnPdcS5-p",
    "outputId": "f3de1c3b-b4b9-4939-9bd3-8fbee5fa61ff"
   },
   "outputs": [
    {
     "name": "stdout",
     "output_type": "stream",
     "text": [
      "A @ B = \n",
      " [[6313. 5006. 6051. ... 5440. 5441. 5599.]\n",
      " [6219. 5970. 6327. ... 6203. 5811. 5857.]\n",
      " [6698. 5832. 6723. ... 6300. 6199. 6501.]\n",
      " ...\n",
      " [6424. 5707. 6359. ... 6291. 5895. 6164.]\n",
      " [6209. 5441. 5973. ... 6107. 5641. 5870.]\n",
      " [6386. 5718. 6517. ... 6403. 6032. 5833.]]\n",
      "CPU times: user 7.58 ms, sys: 1.98 ms, total: 9.56 ms\n",
      "Wall time: 5.83 ms\n"
     ]
    }
   ],
   "source": [
    "%%time\n",
    "print('A @ B = \\n', A @ B)"
   ]
  },
  {
   "cell_type": "code",
   "execution_count": null,
   "metadata": {
    "id": "Cy2x_5ZuDrqD",
    "outputId": "2f5b76ac-9992-4127-e533-e9d90cadd47c"
   },
   "outputs": [
    {
     "name": "stdout",
     "output_type": "stream",
     "text": [
      "A @ B = \n",
      " [[5799. 5873. 5658. ... 5684. 5842. 5506.]\n",
      " [6502. 6189. 6059. ... 6430. 6313. 6102.]\n",
      " [5899. 5845. 5866. ... 6014. 5828. 5749.]\n",
      " ...\n",
      " [5930. 5906. 5791. ... 5630. 5784. 5905.]\n",
      " [5937. 5785. 6013. ... 5898. 5942. 5690.]\n",
      " [5902. 5977. 6099. ... 5526. 5979. 5745.]]\n",
      "Wall time: 3.69 ms\n"
     ]
    }
   ],
   "source": [
    "%%time\n",
    "print('A @ B = \\n', A @ B)"
   ]
  },
  {
   "cell_type": "code",
   "execution_count": 201,
   "metadata": {
    "colab": {
     "base_uri": "https://localhost:8080/"
    },
    "id": "IhrZsZdoS8a2",
    "outputId": "ceb58889-8201-416b-b9be-e7c8f72bcaab"
   },
   "outputs": [
    {
     "name": "stdout",
     "output_type": "stream",
     "text": [
      "C_standard = \n",
      " [[6313. 5006. 6051. ... 5440. 5441. 5599.]\n",
      " [6219. 5970. 6327. ... 6203. 5811. 5857.]\n",
      " [6698. 5832. 6723. ... 6300. 6199. 6501.]\n",
      " ...\n",
      " [6424. 5707. 6359. ... 6291. 5895. 6164.]\n",
      " [6209. 5441. 5973. ... 6107. 5641. 5870.]\n",
      " [6386. 5718. 6517. ... 6403. 6032. 5833.]]\n",
      "CPU times: user 21 s, sys: 26.1 ms, total: 21.1 s\n",
      "Wall time: 21.2 s\n"
     ]
    }
   ],
   "source": [
    "%%time\n",
    "C_standard = mat_mul_standard(A, B)\n",
    "print('C_standard = \\n', C_standard)"
   ]
  },
  {
   "cell_type": "code",
   "execution_count": null,
   "metadata": {
    "id": "YKjQA_GKDrqE",
    "outputId": "5f927575-5f44-4a28-e91a-940fc7ed2921"
   },
   "outputs": [
    {
     "name": "stdout",
     "output_type": "stream",
     "text": [
      "C_standard = \n",
      " [[5799. 5873. 5658. ... 5684. 5842. 5506.]\n",
      " [6502. 6189. 6059. ... 6430. 6313. 6102.]\n",
      " [5899. 5845. 5866. ... 6014. 5828. 5749.]\n",
      " ...\n",
      " [5930. 5906. 5791. ... 5630. 5784. 5905.]\n",
      " [5937. 5785. 6013. ... 5898. 5942. 5690.]\n",
      " [5902. 5977. 6099. ... 5526. 5979. 5745.]]\n",
      "Wall time: 659 ms\n"
     ]
    }
   ],
   "source": [
    "%%time\n",
    "C_standard = mat_mul_standard(A, B)\n",
    "print('C_standard = \\n', C_standard)"
   ]
  },
  {
   "cell_type": "code",
   "execution_count": 194,
   "metadata": {
    "colab": {
     "base_uri": "https://localhost:8080/"
    },
    "id": "ijur1oenTqZ8",
    "outputId": "b6c3e5b5-1897-47d5-fc2b-7521522a0875"
   },
   "outputs": [
    {
     "name": "stdout",
     "output_type": "stream",
     "text": [
      "C_columns = \n",
      " [[6313. 5006. 6051. ... 5440. 5441. 5599.]\n",
      " [6219. 5970. 6327. ... 6203. 5811. 5857.]\n",
      " [6698. 5832. 6723. ... 6300. 6199. 6501.]\n",
      " ...\n",
      " [6424. 5707. 6359. ... 6291. 5895. 6164.]\n",
      " [6209. 5441. 5973. ... 6107. 5641. 5870.]\n",
      " [6386. 5718. 6517. ... 6403. 6032. 5833.]]\n",
      "CPU times: user 19.6 s, sys: 35.4 ms, total: 19.6 s\n",
      "Wall time: 19.8 s\n"
     ]
    }
   ],
   "source": [
    "%%time\n",
    "C_columns = mat_mul_columns(A, B)\n",
    "print('C_columns = \\n', C_columns)"
   ]
  },
  {
   "cell_type": "code",
   "execution_count": null,
   "metadata": {
    "id": "BF7h03bbDrqF",
    "outputId": "2c0ece0a-5794-498c-c44e-2e127fef593a"
   },
   "outputs": [
    {
     "name": "stdout",
     "output_type": "stream",
     "text": [
      "C_columns = \n",
      " [[5799. 5873. 5658. ... 5684. 5842. 5506.]\n",
      " [6502. 6189. 6059. ... 6430. 6313. 6102.]\n",
      " [5899. 5845. 5866. ... 6014. 5828. 5749.]\n",
      " ...\n",
      " [5930. 5906. 5791. ... 5630. 5784. 5905.]\n",
      " [5937. 5785. 6013. ... 5898. 5942. 5690.]\n",
      " [5902. 5977. 6099. ... 5526. 5979. 5745.]]\n",
      "Wall time: 1.77 s\n"
     ]
    }
   ],
   "source": [
    "%%time\n",
    "C_columns = mat_mul_columns(A, B)\n",
    "print('C_columns = \\n', C_columns)"
   ]
  },
  {
   "cell_type": "code",
   "execution_count": 202,
   "metadata": {
    "colab": {
     "base_uri": "https://localhost:8080/"
    },
    "id": "XedQT-Y6TwGx",
    "outputId": "23db85db-7039-499d-db68-ab61215816c5"
   },
   "outputs": [
    {
     "name": "stdout",
     "output_type": "stream",
     "text": [
      "C_rows = \n",
      " [[6313. 5006. 6051. ... 5440. 5441. 5599.]\n",
      " [6219. 5970. 6327. ... 6203. 5811. 5857.]\n",
      " [6698. 5832. 6723. ... 6300. 6199. 6501.]\n",
      " ...\n",
      " [6424. 5707. 6359. ... 6291. 5895. 6164.]\n",
      " [6209. 5441. 5973. ... 6107. 5641. 5870.]\n",
      " [6386. 5718. 6517. ... 6403. 6032. 5833.]]\n",
      "CPU times: user 19.6 s, sys: 33.5 ms, total: 19.6 s\n",
      "Wall time: 19.7 s\n"
     ]
    }
   ],
   "source": [
    "%%time\n",
    "C_rows = mat_mul_rows(A, B)\n",
    "print('C_rows = \\n', C_rows)"
   ]
  },
  {
   "cell_type": "code",
   "execution_count": null,
   "metadata": {
    "id": "568ptnZHDrqF",
    "outputId": "8a6896f9-31ed-404b-975d-e0b13f4a383c"
   },
   "outputs": [
    {
     "name": "stdout",
     "output_type": "stream",
     "text": [
      "C_rows = \n",
      " [[5799. 5873. 5658. ... 5684. 5842. 5506.]\n",
      " [6502. 6189. 6059. ... 6430. 6313. 6102.]\n",
      " [5899. 5845. 5866. ... 6014. 5828. 5749.]\n",
      " ...\n",
      " [5930. 5906. 5791. ... 5630. 5784. 5905.]\n",
      " [5937. 5785. 6013. ... 5898. 5942. 5690.]\n",
      " [5902. 5977. 6099. ... 5526. 5979. 5745.]]\n",
      "Wall time: 1.91 s\n"
     ]
    }
   ],
   "source": [
    "%%time\n",
    "C_rows = mat_mul_rows(A, B)\n",
    "print('C_rows = \\n', C_rows)"
   ]
  },
  {
   "cell_type": "code",
   "execution_count": 205,
   "metadata": {
    "colab": {
     "base_uri": "https://localhost:8080/"
    },
    "id": "m5uB092jSwQv",
    "outputId": "2399e344-ab45-42d7-e241-7c7098141578"
   },
   "outputs": [
    {
     "name": "stdout",
     "output_type": "stream",
     "text": [
      "C_column_times_row = \n",
      " [[6313. 5006. 6051. ... 5440. 5441. 5599.]\n",
      " [6219. 5970. 6327. ... 6203. 5811. 5857.]\n",
      " [6698. 5832. 6723. ... 6300. 6199. 6501.]\n",
      " ...\n",
      " [6424. 5707. 6359. ... 6291. 5895. 6164.]\n",
      " [6209. 5441. 5973. ... 6107. 5641. 5870.]\n",
      " [6386. 5718. 6517. ... 6403. 6032. 5833.]]\n",
      "CPU times: user 172 ms, sys: 0 ns, total: 172 ms\n",
      "Wall time: 171 ms\n"
     ]
    }
   ],
   "source": [
    "%%time\n",
    "C_column_times_row = mat_mul_column_times_row(A, B)\n",
    "print('C_column_times_row = \\n', C_column_times_row)"
   ]
  },
  {
   "cell_type": "code",
   "execution_count": null,
   "metadata": {
    "id": "I0SdGb5EDrqG",
    "outputId": "e56f2213-06d1-4277-cb6a-168b99791331"
   },
   "outputs": [
    {
     "name": "stdout",
     "output_type": "stream",
     "text": [
      "C_column_times_row = \n",
      " [[5799. 5873. 5658. ... 5684. 5842. 5506.]\n",
      " [6502. 6189. 6059. ... 6430. 6313. 6102.]\n",
      " [5899. 5845. 5866. ... 6014. 5828. 5749.]\n",
      " ...\n",
      " [5930. 5906. 5791. ... 5630. 5784. 5905.]\n",
      " [5937. 5785. 6013. ... 5898. 5942. 5690.]\n",
      " [5902. 5977. 6099. ... 5526. 5979. 5745.]]\n",
      "Wall time: 80 ms\n"
     ]
    }
   ],
   "source": [
    "%%time\n",
    "C_column_times_row = mat_mul_column_times_row(A, B)\n",
    "print('C_column_times_row = \\n', C_column_times_row)"
   ]
  }
 ],
 "metadata": {
  "colab": {
   "provenance": []
  },
  "kernelspec": {
   "display_name": "Python 3",
   "language": "python",
   "name": "python3"
  },
  "language_info": {
   "codemirror_mode": {
    "name": "ipython",
    "version": 3
   },
   "file_extension": ".py",
   "mimetype": "text/x-python",
   "name": "python",
   "nbconvert_exporter": "python",
   "pygments_lexer": "ipython3",
   "version": "3.9.2"
  }
 },
 "nbformat": 4,
 "nbformat_minor": 0
}
